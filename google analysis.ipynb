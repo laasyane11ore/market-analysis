{
 "cells": [
  {
   "cell_type": "code",
   "execution_count": 2,
   "id": "8c272847",
   "metadata": {},
   "outputs": [
    {
     "name": "stdout",
     "output_type": "stream",
     "text": [
      "Collecting pytrends\n",
      "  Downloading pytrends-4.9.2-py3-none-any.whl (15 kB)\n",
      "Requirement already satisfied: requests>=2.0 in c:\\users\\ual-laptop\\anaconda3\\lib\\site-packages (from pytrends) (2.27.1)\n",
      "Requirement already satisfied: pandas>=0.25 in c:\\users\\ual-laptop\\anaconda3\\lib\\site-packages (from pytrends) (1.4.2)\n",
      "Requirement already satisfied: lxml in c:\\users\\ual-laptop\\anaconda3\\lib\\site-packages (from pytrends) (4.8.0)\n",
      "Requirement already satisfied: python-dateutil>=2.8.1 in c:\\users\\ual-laptop\\anaconda3\\lib\\site-packages (from pandas>=0.25->pytrends) (2.8.2)\n",
      "Requirement already satisfied: pytz>=2020.1 in c:\\users\\ual-laptop\\anaconda3\\lib\\site-packages (from pandas>=0.25->pytrends) (2021.3)\n",
      "Requirement already satisfied: numpy>=1.18.5 in c:\\users\\ual-laptop\\anaconda3\\lib\\site-packages (from pandas>=0.25->pytrends) (1.23.5)\n",
      "Requirement already satisfied: urllib3<1.27,>=1.21.1 in c:\\users\\ual-laptop\\anaconda3\\lib\\site-packages (from requests>=2.0->pytrends) (1.26.9)\n",
      "Requirement already satisfied: certifi>=2017.4.17 in c:\\users\\ual-laptop\\anaconda3\\lib\\site-packages (from requests>=2.0->pytrends) (2021.10.8)\n",
      "Requirement already satisfied: charset-normalizer~=2.0.0 in c:\\users\\ual-laptop\\anaconda3\\lib\\site-packages (from requests>=2.0->pytrends) (2.0.4)Note: you may need to restart the kernel to use updated packages.\n",
      "\n",
      "Requirement already satisfied: idna<4,>=2.5 in c:\\users\\ual-laptop\\anaconda3\\lib\\site-packages (from requests>=2.0->pytrends) (3.3)"
     ]
    },
    {
     "name": "stderr",
     "output_type": "stream",
     "text": [
      "\n",
      "[notice] A new release of pip is available: 23.1.2 -> 23.2.1\n",
      "[notice] To update, run: python.exe -m pip install --upgrade pip\n"
     ]
    },
    {
     "name": "stdout",
     "output_type": "stream",
     "text": [
      "\n",
      "Requirement already satisfied: six>=1.5 in c:\\users\\ual-laptop\\anaconda3\\lib\\site-packages (from python-dateutil>=2.8.1->pandas>=0.25->pytrends) (1.16.0)\n",
      "Installing collected packages: pytrends\n",
      "Successfully installed pytrends-4.9.2\n"
     ]
    }
   ],
   "source": [
    "pip install pytrends"
   ]
  },
  {
   "cell_type": "code",
   "execution_count": 3,
   "id": "6a83a169",
   "metadata": {},
   "outputs": [],
   "source": [
    "import pandas as pd\n",
    "from pytrends.request import TrendReq\n",
    "import matplotlib.pyplot as plt\n",
    "trends = TrendReq()"
   ]
  },
  {
   "cell_type": "code",
   "execution_count": 4,
   "id": "cba92054",
   "metadata": {},
   "outputs": [
    {
     "name": "stdout",
     "output_type": "stream",
     "text": [
      "             Machine Learning\n",
      "geoName                      \n",
      "China                     100\n",
      "Ethiopia                   55\n",
      "Singapore                  48\n",
      "India                      35\n",
      "Pakistan                   29\n",
      "Nepal                      28\n",
      "Tunisia                    27\n",
      "Hong Kong                  27\n",
      "South Korea                26\n",
      "Sri Lanka                  25\n"
     ]
    }
   ],
   "source": [
    "trends.build_payload(kw_list=[\"Machine Learning\"])\n",
    "data = trends.interest_by_region()\n",
    "data = data.sort_values(by=\"Machine Learning\", ascending=False)\n",
    "data = data.head(10)\n",
    "print(data)"
   ]
  },
  {
   "cell_type": "code",
   "execution_count": 5,
   "id": "a0a65253",
   "metadata": {},
   "outputs": [
    {
     "data": {
      "image/png": "[encoded data removed]",
      "text/plain": [
       "<Figure size 1080x864 with 1 Axes>"
      ]
     },
     "metadata": {
      "needs_background": "light"
     },
     "output_type": "display_data"
    }
   ],
   "source": [
    "data.reset_index().plot(x=\"geoName\", \n",
    "                        y=\"Machine Learning\", \n",
    "                        figsize=(15,12), kind=\"bar\")\n",
    "plt.style.use('fivethirtyeight')\n",
    "plt.show()"
   ]
  },
  {
   "cell_type": "code",
   "execution_count": null,
   "id": "44e2c397",
   "metadata": {},
   "outputs": [],
   "source": []
  }
 ],
 "metadata": {
  "kernelspec": {
   "display_name": "Python 3 (ipykernel)",
   "language": "python",
   "name": "python3"
  },
  "language_info": {
   "codemirror_mode": {
    "name": "ipython",
    "version": 3
   },
   "file_extension": ".py",
   "mimetype": "text/x-python",
   "name": "python",
   "nbconvert_exporter": "python",
   "pygments_lexer": "ipython3",
   "version": "3.9.12"
  }
 },
 "nbformat": 4,
 "nbformat_minor": 5
}
